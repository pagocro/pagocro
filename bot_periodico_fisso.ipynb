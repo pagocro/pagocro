{
  "nbformat": 4,
  "nbformat_minor": 0,
  "metadata": {
    "colab": {
      "provenance": [],
      "mount_file_id": "1NzJXdmcSsh1AqfGbleUUs0D55M_NfWAf",
      "authorship_tag": "ABX9TyP3EzCf3ZeOCVGZW226vtip",
      "include_colab_link": true
    },
    "kernelspec": {
      "name": "python3",
      "display_name": "Python 3"
    },
    "language_info": {
      "name": "python"
    }
  },
  "cells": [
    {
      "cell_type": "markdown",
      "metadata": {
        "id": "view-in-github",
        "colab_type": "text"
      },
      "source": [
        "<a href=\"https://colab.research.google.com/github/pagocro/pagocro/blob/main/bot_periodico_fisso.ipynb\" target=\"_parent\"><img src=\"https://colab.research.google.com/assets/colab-badge.svg\" alt=\"Open In Colab\"/></a>"
      ]
    },
    {
      "cell_type": "code",
      "source": [
        "pip install schedule"
      ],
      "metadata": {
        "colab": {
          "base_uri": "https://localhost:8080/"
        },
        "id": "Knahg15kpeZ6",
        "outputId": "4c7f92fe-6444-4c76-90de-fc91edf22651"
      },
      "execution_count": 1,
      "outputs": [
        {
          "output_type": "stream",
          "name": "stdout",
          "text": [
            "Looking in indexes: https://pypi.org/simple, https://us-python.pkg.dev/colab-wheels/public/simple/\n",
            "Requirement already satisfied: schedule in /usr/local/lib/python3.10/dist-packages (1.2.0)\n"
          ]
        }
      ]
    },
    {
      "cell_type": "code",
      "source": [
        "pip install python-telegram-bot==13.13"
      ],
      "metadata": {
        "colab": {
          "base_uri": "https://localhost:8080/"
        },
        "id": "-yKB2yPRog3V",
        "outputId": "89231c3d-5b7d-4566-f8f4-cddee703d789"
      },
      "execution_count": 2,
      "outputs": [
        {
          "output_type": "stream",
          "name": "stdout",
          "text": [
            "Looking in indexes: https://pypi.org/simple, https://us-python.pkg.dev/colab-wheels/public/simple/\n",
            "Requirement already satisfied: python-telegram-bot==13.13 in /usr/local/lib/python3.10/dist-packages (13.13)\n",
            "Requirement already satisfied: certifi in /usr/local/lib/python3.10/dist-packages (from python-telegram-bot==13.13) (2022.12.7)\n",
            "Requirement already satisfied: tornado>=6.1 in /usr/local/lib/python3.10/dist-packages (from python-telegram-bot==13.13) (6.3.1)\n",
            "Requirement already satisfied: APScheduler==3.6.3 in /usr/local/lib/python3.10/dist-packages (from python-telegram-bot==13.13) (3.6.3)\n",
            "Requirement already satisfied: pytz>=2018.6 in /usr/local/lib/python3.10/dist-packages (from python-telegram-bot==13.13) (2022.7.1)\n",
            "Requirement already satisfied: cachetools==4.2.2 in /usr/local/lib/python3.10/dist-packages (from python-telegram-bot==13.13) (4.2.2)\n",
            "Requirement already satisfied: setuptools>=0.7 in /usr/local/lib/python3.10/dist-packages (from APScheduler==3.6.3->python-telegram-bot==13.13) (67.7.2)\n",
            "Requirement already satisfied: six>=1.4.0 in /usr/local/lib/python3.10/dist-packages (from APScheduler==3.6.3->python-telegram-bot==13.13) (1.16.0)\n",
            "Requirement already satisfied: tzlocal>=1.2 in /usr/local/lib/python3.10/dist-packages (from APScheduler==3.6.3->python-telegram-bot==13.13) (4.3)\n",
            "Requirement already satisfied: pytz-deprecation-shim in /usr/local/lib/python3.10/dist-packages (from tzlocal>=1.2->APScheduler==3.6.3->python-telegram-bot==13.13) (0.1.0.post0)\n",
            "Requirement already satisfied: tzdata in /usr/local/lib/python3.10/dist-packages (from pytz-deprecation-shim->tzlocal>=1.2->APScheduler==3.6.3->python-telegram-bot==13.13) (2023.3)\n"
          ]
        }
      ]
    },
    {
      "cell_type": "code",
      "execution_count": null,
      "metadata": {
        "colab": {
          "base_uri": "https://localhost:8080/"
        },
        "id": "x4XpOZybnxNM",
        "outputId": "a8b65e63-b024-4312-cb9d-7db35f590b87"
      },
      "outputs": [
        {
          "output_type": "stream",
          "name": "stdout",
          "text": [
            "Bot started.\n"
          ]
        }
      ],
      "source": [
        "from telegram import InputMediaPhoto, InputMediaVideo\n",
        "from telegram.ext import Updater, CommandHandler,MessageHandler,Filters\n",
        "from glob import glob\n",
        "from random import choice, sample\n",
        "import os\n",
        "import schedule\n",
        "import time\n",
        "\n",
        "# TOKEN del Bot Telegram\n",
        "TOKEN = \"6101526654:AAGhCkv2M9H4AQXf5bMrVr3T0Y_YeFELVgA\"\n",
        "\n",
        "# Percorso della cartella delle immagini\n",
        "IMAGES_FOLDER = \"/content/drive/MyDrive/bot/images\"\n",
        "\n",
        "# Percorso della cartella dei video\n",
        "VIDEOS_FOLDER = \"/content/drive/MyDrive/bot/videos\"\n",
        "\n",
        "# Parole chiave e sinonimi per le foto\n",
        "PHOTO_KEYWORDS = [\"photo\", \"picture\", \"photos\", \"image\", \"snapshot\", \"photograph\", \"shot\", \"pic\", \"print\", \"portrait\"]\n",
        "\n",
        "# Parole chiave e sinonimi per i video\n",
        "VIDEO_KEYWORDS = [\"video\", \"clip\", \"movie\", \"film\", \"footage\"]\n",
        "\n",
        "# Link a patpassion\n",
        "PATPASSION_LINKS = {\n",
        "    \"Twitter\": \"https://twitter.com/PatPassion1\",\n",
        "    \"Onlyfans\": \"https://t.co/ZEdaX2aMuL\",\n",
        "    \"Manyvids\": \"https://t.co/4TaBlWHTQA\",\n",
        "    \"Skyprivate\": \"https://t.co/lyZiKKA7Tu\",\n",
        "    \"Cammodels\": \"https://www.cammodels.com/cam/aslasta811\",\n",
        "    \"Stripchat\": \"https://stripchat.com/PatPassion\"\n",
        "}\n",
        "\n",
        "def start(update, context):\n",
        "    message = \"Hello my love! I'm Patpassion bot. Here are the available commands:\\n\\n\" \\\n",
        "              \"/photo or its synonyms: Send a random photo.\\n\" \\\n",
        "              \"/video or its synonyms: Send a random video.\\n\" \\\n",
        "              \"/photos or its synonyms: Send 5 random photos.\\n\" \\\n",
        "              \"/info or /links: Get links to PatPassion profiles.\\n\\n\" \\\n",
        "              \"Feel free to ask me anything or use the commands and kiss\"\n",
        "    update.message.reply_text(message)\n",
        "\n",
        "\n",
        "class CustomContext:\n",
        "    def __init__(self, job_queue, bot):\n",
        "        self.job_queue = job_queue\n",
        "        self.bot = bot\n",
        "\n",
        "def send_random_photo(context):\n",
        "    photo_path = choice(glob(os.path.join(IMAGES_FOLDER, \"*\")))\n",
        "    context.job.context.bot.send_photo(chat_id=context.job.context.chat_id, photo=open(photo_path, 'rb'))\n",
        "\n",
        "def send_random_video(context):\n",
        "    video_path = choice(glob(os.path.join(VIDEOS_FOLDER, \"*\")))\n",
        "    context.job.context.bot.send_video(chat_id=context.job.context.chat_id, video=open(video_path, 'rb'))\n",
        "\n",
        "def send_random_photo_2(update, context):\n",
        "    photo_path = choice(glob(os.path.join(IMAGES_FOLDER, \"*\")))\n",
        "    context.bot.send_photo(chat_id=update.effective_chat.id, photo=open(photo_path, 'rb'))\n",
        "\n",
        "def send_random_video_2(update, context):\n",
        "    video_path = choice(glob(os.path.join(VIDEOS_FOLDER, \"*\")))\n",
        "    context.bot.send_video(chat_id=update.effective_chat.id, video=open(video_path, 'rb'))\n",
        "\n",
        "def schedule_commands(context):\n",
        "    context.job_queue.run_repeating(send_random_photo, interval=2000, context=context)\n",
        "    context.job_queue.run_repeating(send_random_video, interval=3000, context=context)\n",
        "    context.job_queue.run_repeating(send_random_photo, interval=5000, context=context)\n",
        "\n",
        "def get_patpassion_links(update, context):\n",
        "    message = \"Here are the links to PatPassion profiles:\\n\\n\"\n",
        "    for name, link in PATPASSION_LINKS.items():\n",
        "        message += f\"{name}: {link}\\n\"\n",
        "    update.message.reply_text(message)\n",
        "\n",
        "def send_multiple_photos(update, context):\n",
        "    photo_paths = sample(glob(os.path.join(IMAGES_FOLDER, \"*\")), 5)\n",
        "    media = [InputMediaPhoto(open(path, 'rb')) for path in photo_paths]\n",
        "    context.bot.send_media_group(chat_id=update.effective_chat.id, media=media)\n",
        "\n",
        "def chat_reply(update, context):\n",
        "    message = update.message.text.lower()\n",
        "\n",
        "    if any(keyword in message for keyword in PHOTO_KEYWORDS):\n",
        "        if any(keyword in message for keyword in [\"photos\", \"group\", \"multiple\", \"many\"]):\n",
        "            send_multiple_photos(update, context)\n",
        "        else:\n",
        "            send_random_photo_2(update, context)\n",
        "    elif any(keyword in message for keyword in VIDEO_KEYWORDS):\n",
        "        send_random_video_2(update, context)\n",
        "    elif message.startswith(\"/info\") or message.startswith(\"/links\"):\n",
        "        get_patpassion_links(update, context)\n",
        "    else:\n",
        "        update.message.reply_text(\"I'm sorry, I didn't understand that command.\")\n",
        "\n",
        "\n",
        "def main():\n",
        "    updater = Updater(TOKEN, use_context=True)\n",
        "    dp = updater.dispatcher\n",
        "    job_queue = updater.job_queue\n",
        "\n",
        "    context = CustomContext(job_queue, updater.bot)\n",
        "    context.chat_id = \"-1001956603136\"  # Inserisci l'ID del chat in cui si desidera inviare le immagini o i video\n",
        "\n",
        "    schedule_commands(context)\n",
        "\n",
        "    dp.add_handler(CommandHandler(\"start\", start))\n",
        "    dp.add_handler(MessageHandler(Filters.text, chat_reply))\n",
        "\n",
        "\n",
        "    updater.start_polling()\n",
        "    print(\"Bot started.\")\n",
        "    updater.idle()\n",
        "\n",
        "if __name__ == '__main__':\n",
        "    main()\n"
      ]
    }
  ]
}